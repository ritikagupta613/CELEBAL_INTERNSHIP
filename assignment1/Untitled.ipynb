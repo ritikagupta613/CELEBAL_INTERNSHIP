{
 "cells": [
  {
   "cell_type": "markdown",
   "id": "1ae7c84b",
   "metadata": {},
   "source": [
    "# ASSIGNMENT ONE"
   ]
  },
  {
   "cell_type": "markdown",
   "id": "f5674dee",
   "metadata": {},
   "source": [
    ". Create lower triangular, upper triangular and pyramid containing the \"*\" character."
   ]
  },
  {
   "cell_type": "code",
   "execution_count": 1,
   "id": "2297202a",
   "metadata": {},
   "outputs": [
    {
     "name": "stdout",
     "output_type": "stream",
     "text": [
      "Lower Triangular Pattern:\n",
      "*\n",
      "**\n",
      "***\n",
      "****\n",
      "*****\n",
      "\n",
      "Upper Triangular Pattern:\n",
      "*****\n",
      "****\n",
      "***\n",
      "**\n",
      "*\n",
      "\n",
      "Pyramid Pattern:\n",
      "    *\n",
      "   ***\n",
      "  *****\n",
      " *******\n",
      "*********\n",
      "\n"
     ]
    }
   ],
   "source": [
    "def lower_triangular(n):\n",
    "    for i in range(1, n + 1):\n",
    "        print(\"*\" * i)\n",
    "    print()  \n",
    "\n",
    "def upper_triangular(n):\n",
    "    for i in range(n, 0, -1):\n",
    "        print(\"*\" * i)\n",
    "    print()  \n",
    "\n",
    "def pyramid(n):\n",
    "    for i in range(1, n + 1):\n",
    "      \n",
    "        print(\" \" * (n - i), end=\"\")\n",
    "        # Printing stars\n",
    "        print(\"*\" * (2 * i - 1))\n",
    "    print() \n",
    "\n",
    "    \n",
    "n = 5\n",
    "print(\"Lower Triangular Pattern:\")\n",
    "lower_triangular(n)\n",
    "\n",
    "print(\"Upper Triangular Pattern:\")\n",
    "upper_triangular(n)\n",
    "\n",
    "print(\"Pyramid Pattern:\")\n",
    "pyramid(n)\n"
   ]
  },
  {
   "cell_type": "code",
   "execution_count": null,
   "id": "f9c06e54",
   "metadata": {},
   "outputs": [],
   "source": []
  }
 ],
 "metadata": {
  "kernelspec": {
   "display_name": "Python 3 (ipykernel)",
   "language": "python",
   "name": "python3"
  },
  "language_info": {
   "codemirror_mode": {
    "name": "ipython",
    "version": 3
   },
   "file_extension": ".py",
   "mimetype": "text/x-python",
   "name": "python",
   "nbconvert_exporter": "python",
   "pygments_lexer": "ipython3",
   "version": "3.11.5"
  }
 },
 "nbformat": 4,
 "nbformat_minor": 5
}
